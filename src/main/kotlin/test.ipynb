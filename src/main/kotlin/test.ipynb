{
 "cells": [
  {
   "metadata": {
    "ExecuteTime": {
     "end_time": "2024-12-15T09:53:10.007267Z",
     "start_time": "2024-12-15T09:53:09.942949700Z"
    }
   },
   "cell_type": "code",
   "source": "fun function(number: Int) = (1..ceil(number.toDouble().pow(0.5)).toInt()).filter { number % it == 0 }",
   "outputs": [],
   "execution_count": 3
  },
  {
   "metadata": {
    "ExecuteTime": {
     "end_time": "2024-12-15T09:53:10.568455700Z",
     "start_time": "2024-12-15T09:53:10.540454900Z"
    }
   },
   "cell_type": "code",
   "source": "function(114514)",
   "outputs": [
    {
     "data": {
      "text/plain": [
       "[1, 2, 31, 62]"
      ]
     },
     "execution_count": 4,
     "metadata": {},
     "output_type": "execute_result"
    }
   ],
   "execution_count": 4
  },
  {
   "metadata": {},
   "cell_type": "code",
   "outputs": [],
   "execution_count": null,
   "source": ""
  }
 ],
 "metadata": {
  "kernelspec": {
   "display_name": "Kotlin",
   "language": "kotlin",
   "name": "kotlin"
  },
  "language_info": {
   "name": "kotlin",
   "version": "1.9.23",
   "mimetype": "text/x-kotlin",
   "file_extension": ".kt",
   "pygments_lexer": "kotlin",
   "codemirror_mode": "text/x-kotlin",
   "nbconvert_exporter": ""
  },
  "ktnbPluginMetadata": {
   "projectDependencies": true
  }
 },
 "nbformat": 4,
 "nbformat_minor": 0
}
