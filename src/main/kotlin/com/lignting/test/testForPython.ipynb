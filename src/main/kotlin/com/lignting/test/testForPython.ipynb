{
 "cells": [
  {
   "metadata": {
    "ExecuteTime": {
     "end_time": "2024-12-16T09:43:56.850733100Z",
     "start_time": "2024-12-16T09:43:56.786733100Z"
    }
   },
   "cell_type": "code",
   "source": [
    "import java.io.File\n",
    "import com.lignting.neural.*\n",
    "import org.jetbrains.kotlinx.multik.api.mk\n",
    "import org.jetbrains.kotlinx.multik.api.ndarray"
   ],
   "outputs": [],
   "execution_count": 1
  },
  {
   "metadata": {
    "ExecuteTime": {
     "end_time": "2024-12-16T09:43:56.990738600Z",
     "start_time": "2024-12-16T09:43:56.915740Z"
    }
   },
   "cell_type": "code",
   "source": [
    "val trainPath = \"res/used_car_train_20200313.csv\"\n",
    "val testPath = \"res/used_car_testA_20200313.csv\""
   ],
   "outputs": [],
   "execution_count": 2
  },
  {
   "metadata": {
    "ExecuteTime": {
     "end_time": "2024-12-16T09:43:57.385280500Z",
     "start_time": "2024-12-16T09:43:56.996739100Z"
    }
   },
   "cell_type": "code",
   "source": [
    "fun readData(path: String): List<Pair<List<Double?>, Double?>> {\n",
    "    val data = File(path).readLines().drop(1)\n",
    "        .map { it.split(\" \").map { it.trim() } }\n",
    "        .map { it.map { it.toDoubleOrNull() } }\n",
    "        .map { it.toMutableList() }\n",
    "        .map { it to it.removeAt(15) }\n",
    "    return data\n",
    "}"
   ],
   "outputs": [],
   "execution_count": 3
  },
  {
   "metadata": {
    "ExecuteTime": {
     "end_time": "2024-12-16T09:44:00.444810400Z",
     "start_time": "2024-12-16T09:43:57.389280800Z"
    }
   },
   "cell_type": "code",
   "source": [
    "val trainData = readData(trainPath)\n",
    "val testData = readData(testPath)"
   ],
   "outputs": [],
   "execution_count": 4
  },
  {
   "metadata": {
    "ExecuteTime": {
     "end_time": "2024-12-16T09:44:00.788815900Z",
     "start_time": "2024-12-16T09:44:00.461810300Z"
    }
   },
   "cell_type": "code",
   "source": [
    "val xNullCounter = MutableList(trainData[0].first.size) { 0 }\n",
    "var yNullCounter = 0\n",
    "trainData.forEach {\n",
    "    it.first.mapIndexed { index, value -> index to if (value == null) 1 else 0 }.forEach {\n",
    "        xNullCounter[it.first] += it.second\n",
    "    }\n",
    "    if (it.second == null)\n",
    "        yNullCounter++\n",
    "}\n",
    "xNullCounter to yNullCounter"
   ],
   "outputs": [
    {
     "data": {
      "text/plain": [
       "([0, 0, 0, 1, 0, 4506, 8680, 5981, 0, 0, 24324, 0, 0, 0, 0, 0, 0, 0, 0, 0, 0, 0, 0, 0, 0, 0, 0, 0, 0, 0], 0)"
      ]
     },
     "execution_count": 5,
     "metadata": {},
     "output_type": "execute_result"
    }
   ],
   "execution_count": 5
  },
  {
   "metadata": {
    "ExecuteTime": {
     "end_time": "2024-12-16T09:44:00.899815900Z",
     "start_time": "2024-12-16T09:44:00.804816100Z"
    }
   },
   "cell_type": "code",
   "source": [
    "fun fillna(data: List<Pair<List<Double?>, Double?>>) =\n",
    "    data.map {\n",
    "        it.first.map {\n",
    "            it ?: -1.0\n",
    "        } to (it.second ?: -1.0)\n",
    "    }"
   ],
   "outputs": [],
   "execution_count": 6
  },
  {
   "metadata": {
    "ExecuteTime": {
     "end_time": "2024-12-16T09:44:01.005822900Z",
     "start_time": "2024-12-16T09:44:00.903816600Z"
    }
   },
   "cell_type": "code",
   "source": [
    "val proceedTrainData = fillna(trainData)\n",
    "val processedTestData = fillna(testData)"
   ],
   "outputs": [],
   "execution_count": 7
  },
  {
   "metadata": {
    "ExecuteTime": {
     "end_time": "2024-12-16T09:44:01.470827300Z",
     "start_time": "2024-12-16T09:44:01.008823800Z"
    }
   },
   "cell_type": "code",
   "source": [
    "val trainX = mk.ndarray(proceedTrainData.map { it.first })\n",
    "val trainY = mk.ndarray(proceedTrainData.map { listOf(it.second) })\n",
    "val testX = mk.ndarray(processedTestData.map { it.first })\n",
    "val testY = mk.ndarray(processedTestData.map { listOf(it.second) })"
   ],
   "outputs": [],
   "execution_count": 8
  },
  {
   "metadata": {
    "ExecuteTime": {
     "end_time": "2024-12-16T09:46:30.600177Z",
     "start_time": "2024-12-16T09:46:30.559177100Z"
    }
   },
   "cell_type": "code",
   "source": [
    "val model = Model(\n",
    "    Dense(30, 20),\n",
    "    Dense(20, 12),\n",
    "    Dense(12, 8),\n",
    "    Dense(8, 4),\n",
    "    Dense(4, 1),\n",
    "    loss = Mae(),\n",
    "    learningRate = 0.0001\n",
    ")"
   ],
   "outputs": [],
   "execution_count": 12
  },
  {
   "metadata": {
    "ExecuteTime": {
     "end_time": "2024-12-16T09:46:32.818180100Z",
     "start_time": "2024-12-16T09:46:31.005177500Z"
    }
   },
   "cell_type": "code",
   "source": [
    "(0..3).forEach {\n",
    "    val loss = model.fit(trainX, trainY)\n",
    "    println(\"train times = $it, loss = $loss\")\n",
    "}"
   ],
   "outputs": [
    {
     "name": "stdout",
     "output_type": "stream",
     "text": [
      "train times = 0, loss = 1.1706309612141897E10\r\n",
      "train times = 1, loss = 3.998968777408792E16\r\n",
      "train times = 2, loss = 1.12821890775108211E18\r\n",
      "train times = 3, loss = 8.209179629284521E18\r\n"
     ]
    }
   ],
   "execution_count": 13
  },
  {
   "metadata": {
    "ExecuteTime": {
     "end_time": "2024-12-16T09:44:04.902233400Z",
     "start_time": "2024-12-16T09:44:04.899473600Z"
    }
   },
   "cell_type": "code",
   "source": "",
   "outputs": [],
   "execution_count": null
  }
 ],
 "metadata": {
  "kernelspec": {
   "display_name": "Kotlin",
   "language": "kotlin",
   "name": "kotlin"
  },
  "language_info": {
   "name": "kotlin",
   "version": "1.9.23",
   "mimetype": "text/x-kotlin",
   "file_extension": ".kt",
   "pygments_lexer": "kotlin",
   "codemirror_mode": "text/x-kotlin",
   "nbconvert_exporter": ""
  },
  "ktnbPluginMetadata": {
   "projectDependencies": true
  }
 },
 "nbformat": 4,
 "nbformat_minor": 0
}
