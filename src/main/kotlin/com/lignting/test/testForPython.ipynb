{
 "cells": [
  {
   "metadata": {
    "ExecuteTime": {
     "end_time": "2024-12-16T08:05:29.794869100Z",
     "start_time": "2024-12-16T08:05:29.701184800Z"
    }
   },
   "cell_type": "code",
   "source": [
    "import java.io.File\n",
    "import com.lignting.neural.*\n",
    "import org.jetbrains.kotlinx.multik.api.mk\n",
    "import org.jetbrains.kotlinx.multik.api.ndarray"
   ],
   "outputs": [],
   "execution_count": 23
  },
  {
   "metadata": {
    "ExecuteTime": {
     "end_time": "2024-12-16T08:05:29.886565100Z",
     "start_time": "2024-12-16T08:05:29.799860400Z"
    }
   },
   "cell_type": "code",
   "source": [
    "val trainPath = \"res/used_car_train_20200313.csv\"\n",
    "val testPath = \"res/used_car_testA_20200313.csv\""
   ],
   "outputs": [],
   "execution_count": 24
  },
  {
   "metadata": {
    "ExecuteTime": {
     "end_time": "2024-12-16T08:05:30.517455100Z",
     "start_time": "2024-12-16T08:05:29.890565600Z"
    }
   },
   "cell_type": "code",
   "source": [
    "fun readData(path: String): List<Pair<List<Double?>, Double?>> {\n",
    "    val data = File(path).readLines().drop(1)\n",
    "        .map { it.split(\" \").map { it.trim() } }\n",
    "        .map { it.map { it.toDoubleOrNull() } }\n",
    "        .map { it.toMutableList() }\n",
    "        .map { it to it.removeAt(15) }\n",
    "    return data\n",
    "}"
   ],
   "outputs": [],
   "execution_count": 25
  },
  {
   "metadata": {
    "ExecuteTime": {
     "end_time": "2024-12-16T08:05:34.988843900Z",
     "start_time": "2024-12-16T08:05:30.522436600Z"
    }
   },
   "cell_type": "code",
   "source": [
    "val trainData = readData(trainPath)\n",
    "val testData = readData(testPath)"
   ],
   "outputs": [],
   "execution_count": 26
  },
  {
   "metadata": {
    "ExecuteTime": {
     "end_time": "2024-12-16T08:05:35.278870600Z",
     "start_time": "2024-12-16T08:05:34.992828300Z"
    }
   },
   "cell_type": "code",
   "source": [
    "val xNullCounter = MutableList(trainData[0].first.size) { 0 }\n",
    "var yNullCounter = 0\n",
    "trainData.forEach {\n",
    "    it.first.mapIndexed { index, value -> index to if (value == null) 1 else 0 }.forEach {\n",
    "        xNullCounter[it.first] += it.second\n",
    "    }\n",
    "    if (it.second == null)\n",
    "        yNullCounter++\n",
    "}\n",
    "xNullCounter to yNullCounter"
   ],
   "outputs": [
    {
     "data": {
      "text/plain": [
       "([0, 0, 0, 1, 0, 4506, 8680, 5981, 0, 0, 24324, 0, 0, 0, 0, 0, 0, 0, 0, 0, 0, 0, 0, 0, 0, 0, 0, 0, 0, 0], 0)"
      ]
     },
     "execution_count": 27,
     "metadata": {},
     "output_type": "execute_result"
    }
   ],
   "execution_count": 27
  },
  {
   "metadata": {
    "ExecuteTime": {
     "end_time": "2024-12-16T08:05:35.371560500Z",
     "start_time": "2024-12-16T08:05:35.279866500Z"
    }
   },
   "cell_type": "code",
   "source": [
    "fun fillna(data: List<Pair<List<Double?>, Double?>>) =\n",
    "    data.map {\n",
    "        it.first.map {\n",
    "            it ?: -1.0\n",
    "        } to (it.second ?: -1.0)\n",
    "    }"
   ],
   "outputs": [],
   "execution_count": 28
  },
  {
   "metadata": {
    "ExecuteTime": {
     "end_time": "2024-12-16T08:05:35.547968800Z",
     "start_time": "2024-12-16T08:05:35.374549800Z"
    }
   },
   "cell_type": "code",
   "source": [
    "val proceedTrainData = fillna(trainData)\n",
    "val processedTestData = fillna(testData)"
   ],
   "outputs": [],
   "execution_count": 29
  },
  {
   "metadata": {
    "ExecuteTime": {
     "end_time": "2024-12-16T08:05:36.000455300Z",
     "start_time": "2024-12-16T08:05:35.549017400Z"
    }
   },
   "cell_type": "code",
   "source": [
    "val trainX = mk.ndarray(proceedTrainData.map { it.first })\n",
    "val trainY = mk.ndarray(proceedTrainData.map { listOf(it.second) })\n",
    "val testX = mk.ndarray(processedTestData.map { it.first })\n",
    "val testY = mk.ndarray(processedTestData.map { listOf(it.second) })"
   ],
   "outputs": [],
   "execution_count": 30
  },
  {
   "metadata": {
    "ExecuteTime": {
     "end_time": "2024-12-16T08:05:36.074211Z",
     "start_time": "2024-12-16T08:05:36.002447600Z"
    }
   },
   "cell_type": "code",
   "source": [
    "val model = Model(\n",
    "    Dense(30, 20),\n",
    "    Relu(),\n",
    "    Dense(20, 12),\n",
    "    Relu(),\n",
    "    Dense(12, 8),\n",
    "    Relu(),\n",
    "    Dense(8, 4),\n",
    "    Relu(),\n",
    "    Dense(4, 1),\n",
    "    loss = Mae(),\n",
    "    learningRate = 0.01\n",
    ")"
   ],
   "outputs": [],
   "execution_count": 31
  },
  {
   "metadata": {
    "ExecuteTime": {
     "end_time": "2024-12-16T08:05:40.492910100Z",
     "start_time": "2024-12-16T08:05:36.076203100Z"
    }
   },
   "cell_type": "code",
   "source": [
    "(0..3).forEach {\n",
    "    val loss = model.fit(trainX, trainY)\n",
    "    println(\"train times = $it, loss = $loss\")\n",
    "}"
   ],
   "outputs": [
    {
     "name": "stdout",
     "output_type": "stream",
     "text": [
      "[-1.0000000000026357]\r\n",
      "[0.0, 0.0, 0.0, 0.0]\r\n",
      "[0.0, 0.0, 0.0, 0.0, 0.0, 0.0, 0.0, 0.0]\r\n",
      "[0.0, 0.0, 0.0, 0.0, 0.0, 0.0, 0.0, 0.0, 0.0, 0.0, 0.0, 0.0]\r\n",
      "[0.0, 0.0, 0.0, 0.0, 0.0, 0.0, 0.0, 0.0, 0.0, 0.0, 0.0, 0.0, 0.0, 0.0, 0.0, 0.0, 0.0, 0.0, 0.0, 0.0]\r\n",
      "train times = 0, loss = 7.741972117324097E9\r\n",
      "[-1.0000000000026357]\r\n",
      "[0.0, 0.0, 0.0, 0.0]\r\n",
      "[0.0, 0.0, 0.0, 0.0, 0.0, 0.0, 0.0, 0.0]\r\n",
      "[0.0, 0.0, 0.0, 0.0, 0.0, 0.0, 0.0, 0.0, 0.0, 0.0, 0.0, 0.0]\r\n",
      "[0.0, 0.0, 0.0, 0.0, 0.0, 0.0, 0.0, 0.0, 0.0, 0.0, 0.0, 0.0, 0.0, 0.0, 0.0, 0.0, 0.0, 0.0, 0.0, 0.0]\r\n",
      "train times = 1, loss = 1.7754154656832637E13\r\n",
      "[-1.0000000000026357]\r\n",
      "[0.0, 0.0, 0.0, 0.0]\r\n",
      "[0.0, 0.0, 0.0, 0.0, 0.0, 0.0, 0.0, 0.0]\r\n",
      "[0.0, 0.0, 0.0, 0.0, 0.0, 0.0, 0.0, 0.0, 0.0, 0.0, 0.0, 0.0]\r\n",
      "[0.0, 0.0, 0.0, 0.0, 0.0, 0.0, 0.0, 0.0, 0.0, 0.0, 0.0, 0.0, 0.0, 0.0, 0.0, 0.0, 0.0, 0.0, 0.0, 0.0]\r\n",
      "train times = 2, loss = 3.550056734154816E13\r\n",
      "[-1.0000000000026357]\r\n",
      "[0.0, 0.0, 0.0, 0.0]\r\n",
      "[0.0, 0.0, 0.0, 0.0, 0.0, 0.0, 0.0, 0.0]\r\n",
      "[0.0, 0.0, 0.0, 0.0, 0.0, 0.0, 0.0, 0.0, 0.0, 0.0, 0.0, 0.0]\r\n",
      "[0.0, 0.0, 0.0, 0.0, 0.0, 0.0, 0.0, 0.0, 0.0, 0.0, 0.0, 0.0, 0.0, 0.0, 0.0, 0.0, 0.0, 0.0, 0.0, 0.0]\r\n",
      "train times = 3, loss = 5.3246980026262914E13\r\n"
     ]
    }
   ],
   "execution_count": 32
  }
 ],
 "metadata": {
  "kernelspec": {
   "display_name": "Kotlin",
   "language": "kotlin",
   "name": "kotlin"
  },
  "language_info": {
   "name": "kotlin",
   "version": "1.9.23",
   "mimetype": "text/x-kotlin",
   "file_extension": ".kt",
   "pygments_lexer": "kotlin",
   "codemirror_mode": "text/x-kotlin",
   "nbconvert_exporter": ""
  },
  "ktnbPluginMetadata": {
   "projectDependencies": true
  }
 },
 "nbformat": 4,
 "nbformat_minor": 0
}
